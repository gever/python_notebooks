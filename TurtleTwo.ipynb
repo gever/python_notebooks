{
  "nbformat": 4,
  "nbformat_minor": 0,
  "metadata": {
    "colab": {
      "name": "TurtleTwo.ipynb",
      "provenance": [],
      "collapsed_sections": [],
      "authorship_tag": "ABX9TyPgW236DIs+nNkXvAr8RfeQ",
      "include_colab_link": true
    },
    "kernelspec": {
      "name": "python3",
      "display_name": "Python 3"
    },
    "language_info": {
      "name": "python"
    }
  },
  "cells": [
    {
      "cell_type": "markdown",
      "metadata": {
        "id": "view-in-github",
        "colab_type": "text"
      },
      "source": [
        "<a href=\"https://colab.research.google.com/github/gever/python_notebooks/blob/master/TurtleTwo.ipynb\" target=\"_parent\"><img src=\"https://colab.research.google.com/assets/colab-badge.svg\" alt=\"Open In Colab\"/></a>"
      ]
    },
    {
      "cell_type": "code",
      "metadata": {
        "colab": {
          "base_uri": "https://localhost:8080/"
        },
        "id": "CymsHyM2wSYL",
        "outputId": "c4b819e8-8fcd-438f-86c2-5dc502d0bf95"
      },
      "source": [
        "!pip install drawSvg"
      ],
      "execution_count": 6,
      "outputs": [
        {
          "output_type": "stream",
          "text": [
            "Requirement already satisfied: drawSvg in /usr/local/lib/python3.7/dist-packages (1.8.1)\n",
            "Requirement already satisfied: numpy in /usr/local/lib/python3.7/dist-packages (from drawSvg) (1.19.5)\n",
            "Requirement already satisfied: cairoSVG in /usr/local/lib/python3.7/dist-packages (from drawSvg) (2.5.2)\n",
            "Requirement already satisfied: imageio in /usr/local/lib/python3.7/dist-packages (from drawSvg) (2.4.1)\n",
            "Requirement already satisfied: cssselect2 in /usr/local/lib/python3.7/dist-packages (from cairoSVG->drawSvg) (0.4.1)\n",
            "Requirement already satisfied: pillow in /usr/local/lib/python3.7/dist-packages (from cairoSVG->drawSvg) (7.1.2)\n",
            "Requirement already satisfied: tinycss2 in /usr/local/lib/python3.7/dist-packages (from cairoSVG->drawSvg) (1.1.0)\n",
            "Requirement already satisfied: defusedxml in /usr/local/lib/python3.7/dist-packages (from cairoSVG->drawSvg) (0.7.1)\n",
            "Requirement already satisfied: cairocffi in /usr/local/lib/python3.7/dist-packages (from cairoSVG->drawSvg) (1.2.0)\n",
            "Requirement already satisfied: webencodings in /usr/local/lib/python3.7/dist-packages (from cssselect2->cairoSVG->drawSvg) (0.5.1)\n",
            "Requirement already satisfied: cffi>=1.1.0 in /usr/local/lib/python3.7/dist-packages (from cairocffi->cairoSVG->drawSvg) (1.14.5)\n",
            "Requirement already satisfied: pycparser in /usr/local/lib/python3.7/dist-packages (from cffi>=1.1.0->cairocffi->cairoSVG->drawSvg) (2.20)\n"
          ],
          "name": "stdout"
        }
      ]
    },
    {
      "cell_type": "code",
      "metadata": {
        "id": "s5brWG7Wjy_o"
      },
      "source": [
        "import drawSvg as draw\n",
        "import math\n",
        "DEG2RAD = math.pi/180\n",
        "class SVGTurtle:\n",
        "  def __init__(self, w=400, h=400):\n",
        "    self.d = draw.Drawing(w, h, origin='center')\n",
        "    self.d.setPixelScale(2)\n",
        "    self.x = 0\n",
        "    self.y = 0\n",
        "    self.heading = 0\n",
        "    self.pendown = True\n",
        "    self.color = \"#00eeee\"\n",
        "\n",
        "  def _line(self, x1, y1, x2, y2):\n",
        "    self.d.append(draw.Lines(x1, y1, x2, y2,\n",
        "                          close=False,\n",
        "                          fill=None,\n",
        "                          stroke=self.color))\n",
        "  \n",
        "  def forward(self, d):\n",
        "    nx = self.x + math.cos(self.heading * DEG2RAD) * d\n",
        "    ny = self.y + math.sin(self.heading * DEG2RAD) * d\n",
        "    if self.pendown:\n",
        "      self._line(self.x, self.y, nx, ny)\n",
        "    self.x = nx\n",
        "    self.y = ny\n",
        "  \n",
        "  def rectangle(self, w, h):\n",
        "    # does not move the turtle\n",
        "    self.d.append(draw.Rectangle(x=self.x, y=self.y, width=w, height=h, stroke=self.color, fill=\"rgba(0,0,0,0)\"))\n",
        "\n",
        "  def pen_down(self):\n",
        "    self.pendown = True\n",
        "  \n",
        "  def pen_up(self):\n",
        "    self.pendown = False\n",
        "\n",
        "  def right(self, delta):\n",
        "    self.heading += delta\n",
        "  \n",
        "  def left(self, delta):\n",
        "    self.heading -= delta\n",
        "\n",
        "  def set_color(self, c):\n",
        "    self.color = c\n",
        "  \n",
        "  def jump_to(self, x, y):\n",
        "    if self.pendown:\n",
        "      self._line(self.x, self.y, x, y)\n",
        "    self.x = x\n",
        "    self.y = y"
      ],
      "execution_count": 23,
      "outputs": []
    },
    {
      "cell_type": "code",
      "metadata": {
        "colab": {
          "base_uri": "https://localhost:8080/",
          "height": 221
        },
        "id": "gakQpyEI5qnf",
        "outputId": "f640d3ca-2cc6-449a-96e0-77d31745a5f6"
      },
      "source": [
        "t = SVGTurtle(400, 100)\n",
        "\n",
        "def square(s):\n",
        "  for i in range(5):\n",
        "    t.forward(s)\n",
        "    t.right(90)\n",
        "\n",
        "def ngon(n,s):\n",
        "  for i in range(n):\n",
        "    t.forward(s)\n",
        "    t.right(360/n)\n",
        "\n",
        "def arc(s):\n",
        "  for i in range(10):\n",
        "    t.forward(s)\n",
        "    t.right(9)\n",
        "\n",
        "def leaf(s):\n",
        "  arc(s)\n",
        "  t.right(90)\n",
        "  arc(s)\n",
        "\n",
        "t.forward(20)\n",
        "t.set_color(\"#ff0000\")\n",
        "ngon(5, 10)\n",
        "t.set_color(\"#00ff00\")\n",
        "t.forward(60)\n",
        "t.set_color('#55aa55')\n",
        "leaf(2)\n",
        "t.forward(50)\n",
        "t.rectangle(100,15)\n",
        "t.d.saveSvg(\"output.svg\")\n",
        "t.d  # Display as SVG"
      ],
      "execution_count": 24,
      "outputs": [
        {
          "output_type": "execute_result",
          "data": {
            "text/plain": [
              "<drawSvg.drawing.Drawing at 0x7f6034997290>"
            ],
            "image/svg+xml": "<?xml version=\"1.0\" encoding=\"UTF-8\"?>\n<svg xmlns=\"http://www.w3.org/2000/svg\" xmlns:xlink=\"http://www.w3.org/1999/xlink\"\n     width=\"800\" height=\"200\" viewBox=\"-200.0 -50.0 400 100\">\n<defs>\n</defs>\n<path d=\"M0,0 L20.0,-0.0\" stroke=\"#00eeee\" />\n<path d=\"M20.0,-0.0 L30.0,-0.0\" stroke=\"#ff0000\" />\n<path d=\"M30.0,-0.0 L33.09016994374947,-9.510565162951535\" stroke=\"#ff0000\" />\n<path d=\"M33.09016994374947,-9.510565162951535 L25.0,-15.388417685876266\" stroke=\"#ff0000\" />\n<path d=\"M25.0,-15.388417685876266 L16.909830056250524,-9.510565162951536\" stroke=\"#ff0000\" />\n<path d=\"M16.909830056250524,-9.510565162951536 L19.999999999999996,-0.0\" stroke=\"#ff0000\" />\n<path d=\"M19.999999999999996,-0.0 L80.0,1.469576158976824e-14\" stroke=\"#00ff00\" />\n<path d=\"M80.0,1.469576158976824e-14 L82.0,1.518562030942718e-14\" stroke=\"#55aa55\" />\n<path d=\"M82.0,1.518562030942718e-14 L83.97537668119027,-0.31286893008044603\" stroke=\"#55aa55\" />\n<path d=\"M83.97537668119027,-0.31286893008044603 L85.87748971378058,-0.9309029188303404\" stroke=\"#55aa55\" />\n<path d=\"M85.87748971378058,-0.9309029188303404 L87.65950276215732,-1.8388839183094334\" stroke=\"#55aa55\" />\n<path d=\"M87.65950276215732,-1.8388839183094334 L89.27753675090722,-3.0144544228943793\" stroke=\"#55aa55\" />\n<path d=\"M89.27753675090722,-3.0144544228943793 L90.69175031328031,-4.428667985267474\" stroke=\"#55aa55\" />\n<path d=\"M90.69175031328031,-4.428667985267474 L91.86732081786525,-6.046701974017369\" stroke=\"#55aa55\" />\n<path d=\"M91.86732081786525,-6.046701974017369 L92.77530181734434,-7.828715022394104\" stroke=\"#55aa55\" />\n<path d=\"M92.77530181734434,-7.828715022394104 L93.39333580609424,-9.73082805498441\" stroke=\"#55aa55\" />\n<path d=\"M93.39333580609424,-9.73082805498441 L93.7062047361747,-11.706204736174685\" stroke=\"#55aa55\" />\n<path d=\"M93.7062047361747,-11.706204736174685 L91.7062047361747,-11.706204736174685\" stroke=\"#55aa55\" />\n<path d=\"M91.7062047361747,-11.706204736174685 L89.73082805498443,-11.393335806094223\" stroke=\"#55aa55\" />\n<path d=\"M89.73082805498443,-11.393335806094223 L87.82871502239412,-10.775301817344328\" stroke=\"#55aa55\" />\n<path d=\"M87.82871502239412,-10.775301817344328 L86.04670197401738,-9.867320817865233\" stroke=\"#55aa55\" />\n<path d=\"M86.04670197401738,-9.867320817865233 L84.42866798526748,-8.691750313280288\" stroke=\"#55aa55\" />\n<path d=\"M84.42866798526748,-8.691750313280288 L83.01445442289439,-7.277536750907192\" stroke=\"#55aa55\" />\n<path d=\"M83.01445442289439,-7.277536750907192 L81.83888391830943,-5.659502762157297\" stroke=\"#55aa55\" />\n<path d=\"M81.83888391830943,-5.659502762157297 L80.93090291883034,-3.8774897137805606\" stroke=\"#55aa55\" />\n<path d=\"M80.93090291883034,-3.8774897137805606 L80.31286893008044,-1.9753766811902538\" stroke=\"#55aa55\" />\n<path d=\"M80.31286893008044,-1.9753766811902538 L79.99999999999999,2.1760371282653068e-14\" stroke=\"#55aa55\" />\n<path d=\"M79.99999999999999,2.1760371282653068e-14 L79.99999999999996,50.00000000000002\" stroke=\"#55aa55\" />\n<rect x=\"79.99999999999996\" y=\"35.00000000000002\" width=\"100\" height=\"15\" stroke=\"#55aa55\" fill=\"rgba(0,0,0,0)\" />\n</svg>"
          },
          "metadata": {
            "tags": []
          },
          "execution_count": 24
        }
      ]
    },
    {
      "cell_type": "code",
      "metadata": {
        "id": "JmYyQOF287yL"
      },
      "source": [
        ""
      ],
      "execution_count": null,
      "outputs": []
    }
  ]
}